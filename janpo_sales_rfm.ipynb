{
 "cells": [
  {
   "cell_type": "code",
   "execution_count": null,
   "metadata": {},
   "outputs": [],
   "source": [
    "import numpy as np\n",
    "import pandas as pd\n",
    "import datetime as dt\n",
    "import seaborn as sns\n",
    "import matplotlib.pyplot as plt\n",
    "\n",
    "from sklearn.preprocessing import StandardScaler\n",
    "from sklearn.cluster import KMeans\n",
    "\n",
    "import warnings\n",
    "warnings.filterwarnings(\"ignore\")"
   ]
  },
  {
   "cell_type": "markdown",
   "metadata": {},
   "source": [
    "### Data Preprocessing"
   ]
  },
  {
   "cell_type": "code",
   "execution_count": null,
   "metadata": {},
   "outputs": [],
   "source": [
    "# Load Orginal Data\n",
    "sales_data = pd.read_excel(\"JANPO Sales.xlsx\")\n",
    "sales_data.drop(columns=['Unnamed: 0'], inplace = True)\n",
    "\n",
    "# Check if Null\n",
    "sales_data.info()\n",
    "\n",
    "# Filter out rows with empty values\n",
    "sales_data = sales_data[sales_data['QTY'] > 0]\n",
    "sales_data = sales_data[sales_data['Amount'] > 0]\n",
    "sales_data = sales_data[sales_data['Total'] > 0]\n",
    "\n",
    "# Convert to dt format\n",
    "sales_data['Date'] = pd.to_datetime(sales_data['Date'])\n",
    "\n",
    "# Reformat\n",
    "sales_data.pivot_table(index=['Date', 'Invoice#', 'Company', 'Country'], \n",
    "                       aggfunc=sum, \n",
    "                       values='Total').reset_index().sort_values(by=['Date'], ascending=False)"
   ]
  },
  {
   "cell_type": "markdown",
   "metadata": {},
   "source": [
    "### Calculate the RFM Value, Create the RFM Table"
   ]
  },
  {
   "cell_type": "code",
   "execution_count": null,
   "metadata": {},
   "outputs": [],
   "source": [
    "# Create the RFM table\n",
    "NOW = dt.datetime(2020,8,28)\n",
    "\n",
    "rfm_Table = sales_data.groupby(['Company', 'Country']).agg({'Date': lambda x: (NOW-x.max()).days,\n",
    "                                                            'Invoice#': lambda x: len(x),\n",
    "                                                            'Total': lambda x: sum(x)}).reset_index()\n",
    "\n",
    "rfm_Table['Date'] = rfm_Table['Date'].astype(int)\n",
    "rfm_Table.rename(columns={'Date': 'Recency', \n",
    "                          'Invoice#': 'Frequency', \n",
    "                          'Total': 'Monetary'}, inplace=True)"
   ]
  },
  {
   "cell_type": "markdown",
   "metadata": {},
   "source": [
    "### Below 2 cells are optional"
   ]
  },
  {
   "cell_type": "code",
   "execution_count": null,
   "metadata": {},
   "outputs": [],
   "source": [
    "# (Optional-1) Assign RFM Score\n",
    "quantiles = rfm_Table.quantile(q=[0.25, 0.50, 0.75])\n",
    "quantiles = quantiles.to_dict()\n",
    "\n",
    "def RScore(x,p,d):\n",
    "    if x <= d[p][0.25]:\n",
    "        return 4\n",
    "    elif x <= d[p][0.50]:\n",
    "        return 3\n",
    "    elif x <= d[p][0.750]:\n",
    "        return 2\n",
    "    else:\n",
    "        return 1\n",
    "    \n",
    "def FMScore(x,p,d):\n",
    "    if x <= d[p][0.25]:\n",
    "        return 1\n",
    "    elif x <= d[p][0.50]:\n",
    "        return 2\n",
    "    elif x <= d[p][0.75]:\n",
    "        return 3\n",
    "    else:\n",
    "        return 4\n",
    "\n",
    "rfm_Table['R'] = rfm_Table['Recency'].apply(RScore, args=('Recency', quantiles))\n",
    "rfm_Table['F'] = rfm_Table['Frequency'].apply(FMScore, args=('Frequency',quantiles))\n",
    "rfm_Table['M'] = rfm_Table['Monetary'].apply(FMScore, args=('Monetary',quantiles))"
   ]
  },
  {
   "cell_type": "code",
   "execution_count": null,
   "metadata": {},
   "outputs": [],
   "source": [
    "# (Optional-2) Create RFMGroup, FRMScore, Assign Loyalty_Level\n",
    "\n",
    "# Concatenate the Score\n",
    "rfm_Table['RFMGroup'] = rfm_Table['R'].map(str) + rfm_Table['F'].map(str) + rfm_Table['M'].map(str)\n",
    "\n",
    "# Sum of the Score\n",
    "rfm_Table['RFMScore'] = rfm_Table[['R', 'F', 'M']].sum(axis=1)\n",
    "\n",
    "# Bronze (Worst), Silver, Gold, Platinum (Best)\n",
    "Loyalty_Level = ['Bronze', 'Silver', 'Gold', 'Platinum']\n",
    "Score_cuts = pd.qcut(rfm_Table['RFMScore'], q=4, labels=Loyalty_Level)\n",
    "rfm_Table['Loyalty_Level'] = Score_cuts.values"
   ]
  },
  {
   "cell_type": "markdown",
   "metadata": {},
   "source": [
    "## K-Means Clustering "
   ]
  },
  {
   "cell_type": "markdown",
   "metadata": {},
   "source": [
    "Check the Data Distribution"
   ]
  },
  {
   "cell_type": "code",
   "execution_count": null,
   "metadata": {},
   "outputs": [],
   "source": [
    "# Check the Data Distribution\n",
    "fig, axes = plt.subplots(ncols=1, nrows=3, figsize=(10,10))\n",
    "sns.distplot(rfm_Table['Recency'], ax=axes[0])\n",
    "sns.distplot(rfm_Table['Frequency'], ax=axes[1])\n",
    "sns.distplot(rfm_Table['Monetary'], ax=axes[2])"
   ]
  },
  {
   "cell_type": "markdown",
   "metadata": {},
   "source": [
    "Log Transformation"
   ]
  },
  {
   "cell_type": "code",
   "execution_count": null,
   "metadata": {},
   "outputs": [],
   "source": [
    "# Handle negative and zero values so as to handle infinite numbers during log transformation\n",
    "def handle_neg_n_zero(num):\n",
    "    if num <= 0:\n",
    "        return 1\n",
    "    else:\n",
    "        return num\n",
    "    \n",
    "# Apply handle_neg_n_zero function to Recency and Monetary columns \n",
    "rfm_Table['Recency'] = [handle_neg_n_zero(x) for x in rfm_Table['Recency']]\n",
    "rfm_Table['Monetary'] = [handle_neg_n_zero(x) for x in rfm_Table['Monetary']]\n",
    "\n",
    "# Perform Log transformation to bring data into normal or near normal distribution\n",
    "Log_Tfd_Data = rfm_Table[['Recency', 'Frequency', 'Monetary']].apply(np.log, axis = 1).round(3)"
   ]
  },
  {
   "cell_type": "code",
   "execution_count": null,
   "metadata": {},
   "outputs": [],
   "source": [
    "# After log transformation, check the Data Distribution again\n",
    "fig, axes = plt.subplots(ncols=1, nrows=3, figsize=(10,10))\n",
    "sns.distplot(Log_Tfd_Data['Recency'], ax=axes[0])\n",
    "sns.distplot(Log_Tfd_Data['Frequency'], ax=axes[1])\n",
    "sns.distplot(Log_Tfd_Data['Monetary'], ax=axes[2])"
   ]
  },
  {
   "cell_type": "markdown",
   "metadata": {},
   "source": [
    "Data Standardization"
   ]
  },
  {
   "cell_type": "code",
   "execution_count": null,
   "metadata": {},
   "outputs": [],
   "source": [
    "from sklearn.preprocessing import StandardScaler\n",
    "\n",
    "#Bring the data on same scale\n",
    "scaleobj = StandardScaler()\n",
    "Scaled_Data = scaleobj.fit_transform(Log_Tfd_Data)\n",
    "\n",
    "#Transform it back to dataframe\n",
    "Scaled_Data = pd.DataFrame(Scaled_Data, index = rfm_Table.index, columns = Log_Tfd_Data.columns)"
   ]
  },
  {
   "cell_type": "markdown",
   "metadata": {},
   "source": [
    "Elbow Method - Find the Optimum K"
   ]
  },
  {
   "cell_type": "code",
   "execution_count": null,
   "metadata": {},
   "outputs": [],
   "source": [
    "from sklearn.cluster import KMeans\n",
    "\n",
    "sum_of_sq_dist = {}\n",
    "for k in range(1,15):\n",
    "    km = KMeans(n_clusters= k, init= 'k-means++', max_iter= 1000)\n",
    "    km = km.fit(Scaled_Data)\n",
    "    sum_of_sq_dist[k] = km.inertia_\n",
    "    \n",
    "#Plot the graph for the sum of square distance values and Number of Clusters\n",
    "sns.pointplot(x = list(sum_of_sq_dist.keys()), y = list(sum_of_sq_dist.values()))\n",
    "plt.xlabel('Number of Clusters(k)')\n",
    "plt.ylabel('Sum of Square Distances')\n",
    "plt.title('Elbow Method For Optimal k')\n",
    "plt.show()"
   ]
  },
  {
   "cell_type": "markdown",
   "metadata": {},
   "source": [
    "Perform K-Mean Clustering"
   ]
  },
  {
   "cell_type": "code",
   "execution_count": null,
   "metadata": {},
   "outputs": [],
   "source": [
    "KMean_clust = KMeans(n_clusters=4, init='k-means++', max_iter=1000)\n",
    "KMean_clust.fit(Scaled_Data)\n",
    "\n",
    "rfm_Table['Cluster'] = KMean_clust.labels_\n",
    "rfm_Table"
   ]
  },
  {
   "cell_type": "markdown",
   "metadata": {},
   "source": [
    "## Summary Analysis - Mean Value"
   ]
  },
  {
   "cell_type": "code",
   "execution_count": null,
   "metadata": {},
   "outputs": [],
   "source": [
    "col = ['Recency', 'Frequency', 'Monetary', 'Cluster']\n",
    "rfm_Table[col].groupby(['Cluster']).agg({'Recency':lambda x:round(x.mean(),2),\n",
    "                                         'Frequency':lambda x:round(x.mean(),2),\n",
    "                                         'Monetary':lambda x:round(x.mean(),2),\n",
    "                                         'Cluster':'size'})"
   ]
  },
  {
   "cell_type": "markdown",
   "metadata": {},
   "source": [
    "#### 個人解釋 \n",
    "\n",
    "第1類顧客：(忠誠)各項顯示都是最好的，最高價值的客戶，對於這種客戶要精心維護，如果有新品上市或者大促活動，這部分人群應該是我們優先服務的\n",
    "\n",
    "第3類的顧客，很久都沒有買了(R很差)，買過次數蠻多的，但是消費金額也是第二高的，代表買過很多次，但後來就不買了，應該是被挖角了。\n",
    "\n",
    "第2類的顧客，最近剛買，頻率也低，但是消費金額也不高，應該是新客戶，應該設置相應的利益點，促進第二次購買。\n",
    "\n",
    "第0類的顧客，很久都沒有買了(R最差)，頻率也最低，買了Sample後就不買了，是價格不好嗎？有什麼原因？"
   ]
  },
  {
   "cell_type": "markdown",
   "metadata": {},
   "source": [
    "## Scatter Plot Frequency vs. Recency"
   ]
  },
  {
   "cell_type": "code",
   "execution_count": null,
   "metadata": {},
   "outputs": [],
   "source": [
    "from matplotlib import pyplot as plt\n",
    "\n",
    "# Scatter Plot Frequency vs. Recency\n",
    "Colors = [\"red\", \"green\", \"blue\", 'black']\n",
    "rfm_Table['Color'] = rfm_Table['Cluster'].apply(lambda p: Colors[p])\n",
    "ax = rfm_Table.plot(kind='scatter', \n",
    "                    x='Recency', \n",
    "                    y='Frequency', \n",
    "                    figsize=(10,8), \n",
    "                    c=rfm_Table['Color'])"
   ]
  }
 ],
 "metadata": {
  "kernelspec": {
   "display_name": "Python 3",
   "language": "python",
   "name": "python3"
  },
  "language_info": {
   "codemirror_mode": {
    "name": "ipython",
    "version": 3
   },
   "file_extension": ".py",
   "mimetype": "text/x-python",
   "name": "python",
   "nbconvert_exporter": "python",
   "pygments_lexer": "ipython3",
   "version": "3.8.5"
  }
 },
 "nbformat": 4,
 "nbformat_minor": 4
}
